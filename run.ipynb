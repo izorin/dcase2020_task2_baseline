{
 "cells": [
  {
   "cell_type": "code",
   "execution_count": null,
   "id": "3c6a1c9e-a40a-4197-ac91-79eb108d6279",
   "metadata": {},
   "outputs": [],
   "source": [
    "%load_ext autoreload\n",
    "%autoreload 2"
   ]
  },
  {
   "cell_type": "code",
   "execution_count": 28,
   "id": "f60b8b7a-a5fe-43e3-8bef-0475b968e78d",
   "metadata": {},
   "outputs": [],
   "source": [
    "import client_lib"
   ]
  },
  {
   "cell_type": "code",
   "execution_count": null,
   "id": "c3a70f84-d273-455c-a8ee-44085740b4f6",
   "metadata": {},
   "outputs": [],
   "source": [
    "import client_lib\n",
    "\n",
    "docker_image = 'cr.msk.sbercloud.ru/aicloud-base-images/horovod-cuda10.1-tf2.3.0'\n",
    "train_script = '/home/jovyan/code/dcase2020_task2_baseline/train.py'\n",
    "\n",
    "save_bucket = 's3://b-ws-zetx1-op1/'\n",
    "\n",
    "dcase_train_run = client_lib.Job(base_image=docker_image,\n",
    "                                 script=train_script,\n",
    "                                 n_workers=1, n_gpus=1, \n",
    "#                                  flags={\"dev\" : ''},\n",
    "                                 warm_cache=False)"
   ]
  },
  {
   "cell_type": "code",
   "execution_count": null,
   "id": "ca2c3110-e74f-4baa-8635-78d0f3b6b6bf",
   "metadata": {},
   "outputs": [],
   "source": [
    "dcase_train_run.submit()"
   ]
  },
  {
   "cell_type": "code",
   "execution_count": null,
   "id": "dbad0fe8-d780-4ede-9693-9a06c2a0670d",
   "metadata": {
    "tags": []
   },
   "outputs": [],
   "source": [
    "dcase_train_run.logs()"
   ]
  },
  {
   "cell_type": "code",
   "execution_count": null,
   "id": "4e23aae8-2849-42fd-8e61-9a583a2353a8",
   "metadata": {},
   "outputs": [],
   "source": []
  },
  {
   "cell_type": "code",
   "execution_count": 8,
   "id": "18ef63d3-2e4b-40f5-841d-89598af4b88c",
   "metadata": {},
   "outputs": [],
   "source": [
    "import client_lib\n",
    "train_script = '/home/jovyan/code/dcase2020_task2_baseline/train.py'\n",
    "\n",
    "save_bucket = 's3://b-ws-zetx1-op1/'"
   ]
  },
  {
   "cell_type": "code",
   "execution_count": 20,
   "id": "d0d5a42b-c5f1-4188-b58b-2f8d150c93e1",
   "metadata": {},
   "outputs": [],
   "source": [
    "docker_image = 'cr.msk.sbercloud.ru/aicloud-base-images/horovod-cuda10.1-tf2.3.0'\n",
    "\n",
    "job = client_lib.ImageBuildJob(\n",
    "                     from_image=docker_image,\n",
    "                     requirements_file='/home/jovyan/code/requirements.txt'\n",
    "\n",
    "job.submit()\n",
    "job.new_image"
   ]
  },
  {
   "cell_type": "code",
   "execution_count": 23,
   "id": "bcd10a10-f213-4c9f-8429-6c6ce1a9f015",
   "metadata": {},
   "outputs": [
    {
     "name": "stdout",
     "output_type": "stream",
     "text": [
      "\u001b[36mINFO\u001b[0m[0005] Resolved base name cr.msk.sbercloud.ru/aicloud-base-images/horovod-cuda10.1-tf2.3.0 to cr.msk.sbercloud.ru/aicloud-base-images/horovod-cuda10.1-tf2.3.0 \n",
      "\u001b[36mINFO\u001b[0m[0005] Resolved base name cr.msk.sbercloud.ru/aicloud-base-images/horovod-cuda10.1-tf2.3.0 to cr.msk.sbercloud.ru/aicloud-base-images/horovod-cuda10.1-tf2.3.0 \n",
      "\u001b[36mINFO\u001b[0m[0005] Retrieving image manifest cr.msk.sbercloud.ru/aicloud-base-images/horovod-cuda10.1-tf2.3.0 \n",
      "\u001b[36mINFO\u001b[0m[0005] Retrieving image manifest cr.msk.sbercloud.ru/aicloud-base-images/horovod-cuda10.1-tf2.3.0 \n",
      "\u001b[36mINFO\u001b[0m[0006] Built cross stage deps: map[]                \n",
      "\u001b[36mINFO\u001b[0m[0006] Retrieving image manifest cr.msk.sbercloud.ru/aicloud-base-images/horovod-cuda10.1-tf2.3.0 \n",
      "\u001b[36mINFO\u001b[0m[0006] Retrieving image manifest cr.msk.sbercloud.ru/aicloud-base-images/horovod-cuda10.1-tf2.3.0 \n",
      "\u001b[36mINFO\u001b[0m[0006] Unpacking rootfs as cmd RUN if [ -e /context/requirements.txt ]; then  pip install --user --no-cache -r /context/requirements.txt; fi requires it. \n",
      "\u001b[36mINFO\u001b[0m[0210] Taking snapshot of full filesystem...        \n",
      "\u001b[36mINFO\u001b[0m[0232] RUN if [ -e /context/requirements.txt ]; then  pip install --user --no-cache -r /context/requirements.txt; fi \n",
      "\u001b[36mINFO\u001b[0m[0232] cmd: /bin/bash                               \n",
      "\u001b[36mINFO\u001b[0m[0232] args: [-cu if [ -e /context/requirements.txt ]; then  pip install --user --no-cache -r /context/requirements.txt; fi] \n",
      "Collecting torch==1.10.0\n",
      "  Downloading torch-1.10.0-cp37-cp37m-manylinux1_x86_64.whl (881.9 MB)\n",
      "Collecting torchaudio==0.10.0\n",
      "  Downloading torchaudio-0.10.0-cp37-cp37m-manylinux1_x86_64.whl (2.9 MB)\n",
      "Requirement already satisfied: torchvision in /home/user/conda/lib/python3.7/site-packages (from -r /context/requirements.txt (line 3)) (0.7.0+cu101)\n",
      "Requirement already satisfied: typing-extensions in /home/user/conda/lib/python3.7/site-packages (from torch==1.10.0->-r /context/requirements.txt (line 1)) (3.10.0.2)\n",
      "Collecting torchvision\n",
      "  Downloading torchvision-0.11.1-cp37-cp37m-manylinux1_x86_64.whl (23.3 MB)\n",
      "Requirement already satisfied: pillow!=8.3.0,>=5.3.0 in /home/user/conda/lib/python3.7/site-packages (from torchvision->-r /context/requirements.txt (line 3)) (8.4.0)\n",
      "Requirement already satisfied: numpy in /home/user/conda/lib/python3.7/site-packages (from torchvision->-r /context/requirements.txt (line 3)) (1.18.5)\n",
      "Installing collected packages: torch, torchvision, torchaudio\n",
      "  WARNING: The scripts convert-caffe2-to-onnx, convert-onnx-to-caffe2 and torchrun are installed in '/home/user/.local/bin' which is not on PATH.\n",
      "  Consider adding this directory to PATH or, if you prefer to suppress this warning, use --no-warn-script-location.\n",
      "Successfully installed torch-1.10.0 torchaudio-0.10.0 torchvision-0.11.1\n",
      "\u001b[36mINFO\u001b[0m[0268] Taking snapshot of full filesystem...        \n"
     ]
    }
   ],
   "source": [
    "job.logs()"
   ]
  },
  {
   "cell_type": "code",
   "execution_count": 17,
   "id": "51d61dc0-10cc-4a71-a36d-5a0d8833cc97",
   "metadata": {},
   "outputs": [],
   "source": [
    "import client_lib\n",
    "\n",
    "jupyter_image = 'cr.msk.sbercloud.ru/aicloud-jupyter/jupyter-cuda10.1-tf2.3.0-gpu-mlspace:0.0.74'\n",
    "\n",
    "jupyter_job = client_lib.ImageBuildJob(\n",
    "                     from_image=jupyter_image, \n",
    "                     requirements_file='/home/jovyan/code/requirements.txt'\n",
    ")\n",
    "\n",
    "jupyter_job.submit()\n",
    "jupyter_job.new_image"
   ]
  },
  {
   "cell_type": "code",
   "execution_count": 19,
   "id": "ada1532c-0461-4419-be57-5accac1a73e9",
   "metadata": {},
   "outputs": [],
   "source": [
    "jupyter_job.logs()"
   ]
  },
  {
   "cell_type": "code",
   "execution_count": 29,
   "id": "369eca87-c543-42f3-b593-0c9b6b701d93",
   "metadata": {},
   "outputs": [],
   "source": [
    "dcase_train_run = client_lib.Job(base_image=\"cr.msk.sbercloud.ru/834eb452-0413-4dad-9d9d-3823be26625d/job-custom-image-6368ea\",\n",
    "                                 script='/home/jovyan/code/test.py',\n",
    "                                 n_workers=1, n_gpus=1, \n",
    "#                                  flags={\"dev\" : ''},\n",
    "                                 warm_cache=False)"
   ]
  },
  {
   "cell_type": "code",
   "execution_count": 30,
   "id": "1e3e4a33-bc90-4e1a-8421-490ba898b635",
   "metadata": {},
   "outputs": [
    {
     "data": {
      "text/plain": [
       "'Job \"lm-mpi-job-b375c3ef-e477-40c4-b95c-b270f315152d\" created'"
      ]
     },
     "execution_count": 30,
     "metadata": {},
     "output_type": "execute_result"
    }
   ],
   "source": [
    "dcase_train_run.submit()"
   ]
  },
  {
   "cell_type": "code",
   "execution_count": null,
   "id": "2c1c439c-ccfd-4546-94fe-4fa2fade2143",
   "metadata": {},
   "outputs": [],
   "source": [
    "dcase_train_run.logs()"
   ]
  }
 ],
 "metadata": {
  "kernelspec": {
   "display_name": "Python 3 (ipykernel)",
   "language": "python",
   "name": "python3"
  },
  "language_info": {
   "codemirror_mode": {
    "name": "ipython",
    "version": 3
   },
   "file_extension": ".py",
   "mimetype": "text/x-python",
   "name": "python",
   "nbconvert_exporter": "python",
   "pygments_lexer": "ipython3",
   "version": "3.7.10"
  }
 },
 "nbformat": 4,
 "nbformat_minor": 5
}
