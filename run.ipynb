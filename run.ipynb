{
 "cells": [
  {
   "cell_type": "code",
   "execution_count": 1,
   "id": "3c6a1c9e-a40a-4197-ac91-79eb108d6279",
   "metadata": {},
   "outputs": [],
   "source": [
    "%load_ext autoreload\n",
    "%autoreload 2"
   ]
  },
  {
   "cell_type": "code",
   "execution_count": 2,
   "id": "c3a70f84-d273-455c-a8ee-44085740b4f6",
   "metadata": {},
   "outputs": [],
   "source": [
    "import client_lib\n",
    "\n",
    "docker_image = 'cr.msk.sbercloud.ru/aicloud-base-images/horovod-cuda10.1-tf2.3.0'\n",
    "train_script = '/home/jovyan/code/dcase2020_task2_baseline/train.py'\n",
    "\n",
    "save_bucket = 's3://b-ws-zetx1-op1/'\n",
    "\n",
    "dcase_train_run = client_lib.Job(base_image=docker_image,\n",
    "                                 script=train_script,\n",
    "                                 n_workers=1, n_gpus=1, \n",
    "#                                  flags={\"dev\" : ''},\n",
    "                                 warm_cache=False)"
   ]
  },
  {
   "cell_type": "code",
   "execution_count": 3,
   "id": "ca2c3110-e74f-4baa-8635-78d0f3b6b6bf",
   "metadata": {},
   "outputs": [
    {
     "data": {
      "text/plain": [
       "'Job \"lm-mpi-job-4c190b69-27b4-4026-afb4-d8c529786252\" created'"
      ]
     },
     "execution_count": 3,
     "metadata": {},
     "output_type": "execute_result"
    }
   ],
   "source": [
    "dcase_train_run.submit()"
   ]
  },
  {
   "cell_type": "code",
   "execution_count": null,
   "id": "dbad0fe8-d780-4ede-9693-9a06c2a0670d",
   "metadata": {
    "tags": []
   },
   "outputs": [],
   "source": [
    "dcase_train_run.logs()"
   ]
  }
 ],
 "metadata": {
  "kernelspec": {
   "display_name": "Python 3 (ipykernel)",
   "language": "python",
   "name": "python3"
  },
  "language_info": {
   "codemirror_mode": {
    "name": "ipython",
    "version": 3
   },
   "file_extension": ".py",
   "mimetype": "text/x-python",
   "name": "python",
   "nbconvert_exporter": "python",
   "pygments_lexer": "ipython3",
   "version": "3.7.10"
  }
 },
 "nbformat": 4,
 "nbformat_minor": 5
}
